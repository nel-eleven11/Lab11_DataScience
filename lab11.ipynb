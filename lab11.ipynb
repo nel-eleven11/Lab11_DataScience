{
  "cells": [
    {
      "cell_type": "markdown",
      "id": "ff87eeb1",
      "metadata": {
        "id": "ff87eeb1"
      },
      "source": [
        "# Laboratorio 11 - Data Science\n",
        "## Proyecto de Consultoría Regresión Logística\n",
        "- Nelson García Bravatti\n",
        "- Christian Echeverría\n"
      ]
    },
    {
      "cell_type": "code",
      "execution_count": 1,
      "id": "7922a986",
      "metadata": {
        "vscode": {
          "languageId": "plaintext"
        },
        "id": "7922a986"
      },
      "outputs": [],
      "source": [
        "!pip -q install pyspark"
      ]
    },
    {
      "cell_type": "code",
      "execution_count": 5,
      "id": "8b8b2da4",
      "metadata": {
        "vscode": {
          "languageId": "plaintext"
        },
        "id": "8b8b2da4",
        "outputId": "505226cf-46cf-4a4d-9c2b-86a30c7b1d35",
        "colab": {
          "base_uri": "https://localhost:8080/"
        }
      },
      "outputs": [
        {
          "output_type": "stream",
          "name": "stdout",
          "text": [
            "Spark version: 3.5.1\n"
          ]
        }
      ],
      "source": [
        "from pyspark.sql import SparkSession\n",
        "from pyspark.sql import functions as F\n",
        "from pyspark.sql import types as T\n",
        "from pyspark.ml.feature import VectorAssembler\n",
        "from pyspark.ml.stat import Correlation\n",
        "from pyspark.ml.linalg import DenseMatrix\n",
        "from pyspark.sql.window import Window\n",
        "\n",
        "import pandas as pd\n",
        "import seaborn as sns\n",
        "import matplotlib.pyplot as plt\n",
        "\n",
        "spark = SparkSession.builder.appName(\"Lab DF — Abandono\").getOrCreate()\n",
        "print(\"Spark version:\", spark.version)"
      ]
    },
    {
      "cell_type": "code",
      "execution_count": 6,
      "id": "4891bda5",
      "metadata": {
        "vscode": {
          "languageId": "plaintext"
        },
        "id": "4891bda5",
        "outputId": "71a41bc0-14b8-4a85-c19d-47e8d00539e0",
        "colab": {
          "base_uri": "https://localhost:8080/"
        }
      },
      "outputs": [
        {
          "output_type": "stream",
          "name": "stdout",
          "text": [
            "+----------------+----+--------------+---------------+-----+---------+-------------------+--------------------+--------------------+-----+\n",
            "|           Names| Age|Total_Purchase|Account_Manager|Years|Num_Sites|       Onboard_date|            Location|             Company|Churn|\n",
            "+----------------+----+--------------+---------------+-----+---------+-------------------+--------------------+--------------------+-----+\n",
            "|Cameron Williams|42.0|       11066.8|              0| 7.22|      8.0|2013-08-30 07:00:40|10265 Elizabeth M...|          Harvey LLC|    1|\n",
            "|   Kevin Mueller|41.0|      11916.22|              0|  6.5|     11.0|2013-08-13 00:38:46|6157 Frank Garden...|          Wilson PLC|    1|\n",
            "|     Eric Lozano|38.0|      12884.75|              0| 6.67|     12.0|2016-06-29 06:20:07|1331 Keith Court ...|Miller, Johnson a...|    1|\n",
            "|   Phillip White|42.0|       8010.76|              0| 6.71|     10.0|2014-04-22 12:43:12|13120 Daniel Moun...|           Smith Inc|    1|\n",
            "|  Cynthia Norton|37.0|       9191.58|              0| 5.56|      9.0|2016-01-19 15:31:15|765 Tricia Row Ka...|          Love-Jones|    1|\n",
            "+----------------+----+--------------+---------------+-----+---------+-------------------+--------------------+--------------------+-----+\n",
            "only showing top 5 rows\n",
            "\n"
          ]
        }
      ],
      "source": [
        "file_path = 'abandono_clientes.csv'\n",
        "\n",
        "df = (\n",
        "    spark.read\n",
        "         .option(\"header\", True)\n",
        "         .option(\"inferSchema\", True)\n",
        "         .csv(file_path)\n",
        ")\n",
        "\n",
        "# Ver las primeras filas del dataframe\n",
        "df.show(5)"
      ]
    },
    {
      "cell_type": "code",
      "execution_count": 7,
      "id": "9869f606",
      "metadata": {
        "vscode": {
          "languageId": "plaintext"
        },
        "id": "9869f606",
        "outputId": "c1ef1256-d796-497a-dfb0-557b6844db2a",
        "colab": {
          "base_uri": "https://localhost:8080/"
        }
      },
      "outputs": [
        {
          "output_type": "stream",
          "name": "stdout",
          "text": [
            "root\n",
            " |-- Names: string (nullable = true)\n",
            " |-- Age: double (nullable = true)\n",
            " |-- Total_Purchase: double (nullable = true)\n",
            " |-- Account_Manager: integer (nullable = true)\n",
            " |-- Years: double (nullable = true)\n",
            " |-- Num_Sites: double (nullable = true)\n",
            " |-- Onboard_date: timestamp (nullable = true)\n",
            " |-- Location: string (nullable = true)\n",
            " |-- Company: string (nullable = true)\n",
            " |-- Churn: integer (nullable = true)\n",
            "\n"
          ]
        }
      ],
      "source": [
        "df.printSchema()"
      ]
    },
    {
      "cell_type": "code",
      "source": [
        "# ---------- 1) Dimensión, duplicados ----------\n",
        "n_rows = df.count()\n",
        "n_cols = len(df.columns)\n",
        "print(f\"Filas: {n_rows}  |  Columnas: {n_cols}\")\n",
        "\n",
        "dup_company = (df.groupBy(\"Company\").count()\n",
        "                 .filter(F.col(\"count\") > 1)\n",
        "                 .count())\n",
        "print(f\"Empresas duplicadas por 'Company': {dup_company}\")"
      ],
      "metadata": {
        "id": "EoBTh7jjCRI-",
        "outputId": "7903ceb2-b9a6-428f-a687-0db185641735",
        "colab": {
          "base_uri": "https://localhost:8080/"
        }
      },
      "id": "EoBTh7jjCRI-",
      "execution_count": 8,
      "outputs": [
        {
          "output_type": "stream",
          "name": "stdout",
          "text": [
            "Filas: 900  |  Columnas: 10\n",
            "Empresas duplicadas por 'Company': 23\n"
          ]
        }
      ]
    },
    {
      "cell_type": "code",
      "source": [
        "# ---------- 2) Nulos y tipos ----------\n",
        "nulls = []\n",
        "for c in df.columns:\n",
        "    nulls.append((c, df.filter(F.col(c).isNull()).count()))\n",
        "spark.createDataFrame(nulls, [\"columna\", \"nulos\"]).show(n=100, truncate=False)\n",
        "\n",
        "# Rangos rápidos (numéricas)\n",
        "num_cols = [\"Age\",\"Total_Purchase\",\"Years\",\"Num_Sites\"]\n",
        "(\n",
        "  df.select([F.min(c).alias(f\"min_{c}\") for c in num_cols] +\n",
        "            [F.max(c).alias(f\"max_{c}\") for c in num_cols] +\n",
        "            [F.avg(c).alias(f\"avg_{c}\") for c in num_cols])\n",
        ").show(truncate=False)\n",
        "\n"
      ],
      "metadata": {
        "id": "thk1svAICVEC",
        "outputId": "f1c97d81-87fc-42a9-e239-d0a2ed3a71f9",
        "colab": {
          "base_uri": "https://localhost:8080/"
        }
      },
      "id": "thk1svAICVEC",
      "execution_count": 10,
      "outputs": [
        {
          "output_type": "stream",
          "name": "stdout",
          "text": [
            "+---------------+-----+\n",
            "|columna        |nulos|\n",
            "+---------------+-----+\n",
            "|Names          |0    |\n",
            "|Age            |0    |\n",
            "|Total_Purchase |0    |\n",
            "|Account_Manager|0    |\n",
            "|Years          |0    |\n",
            "|Num_Sites      |0    |\n",
            "|Onboard_date   |0    |\n",
            "|Location       |0    |\n",
            "|Company        |0    |\n",
            "|Churn          |0    |\n",
            "+---------------+-----+\n",
            "\n",
            "root\n",
            " |-- Names: string (nullable = true)\n",
            " |-- Age: double (nullable = true)\n",
            " |-- Total_Purchase: double (nullable = true)\n",
            " |-- Account_Manager: integer (nullable = true)\n",
            " |-- Years: double (nullable = true)\n",
            " |-- Num_Sites: double (nullable = true)\n",
            " |-- Onboard_date: timestamp (nullable = true)\n",
            " |-- Location: string (nullable = true)\n",
            " |-- Company: string (nullable = true)\n",
            " |-- Churn: integer (nullable = true)\n",
            "\n",
            "+-------+------------------+---------+-------------+-------+------------------+---------+-------------+-----------------+------------------+----------------+-----------------+\n",
            "|min_Age|min_Total_Purchase|min_Years|min_Num_Sites|max_Age|max_Total_Purchase|max_Years|max_Num_Sites|avg_Age          |avg_Total_Purchase|avg_Years       |avg_Num_Sites    |\n",
            "+-------+------------------+---------+-------------+-------+------------------+---------+-------------+-----------------+------------------+----------------+-----------------+\n",
            "|22.0   |100.0             |1.0      |3.0          |65.0   |18026.01          |9.15     |14.0         |41.81666666666667|10062.82403333334 |5.27315555555555|8.587777777777777|\n",
            "+-------+------------------+---------+-------------+-------+------------------+---------+-------------+-----------------+------------------+----------------+-----------------+\n",
            "\n"
          ]
        }
      ]
    },
    {
      "cell_type": "code",
      "source": [
        "# ---------- 3) Balance de clases ----------\n",
        "class_balance = (df.groupBy(\"Churn\").count()\n",
        "                   .withColumn(\"prop\", F.col(\"count\")/n_rows))\n",
        "class_balance.show()\n"
      ],
      "metadata": {
        "id": "oeh_Gol6CWfy",
        "outputId": "56050e32-62bb-4a46-99b2-6518f32b2907",
        "colab": {
          "base_uri": "https://localhost:8080/"
        }
      },
      "id": "oeh_Gol6CWfy",
      "execution_count": 11,
      "outputs": [
        {
          "output_type": "stream",
          "name": "stdout",
          "text": [
            "+-----+-----+-------------------+\n",
            "|Churn|count|               prop|\n",
            "+-----+-----+-------------------+\n",
            "|    1|  150|0.16666666666666666|\n",
            "|    0|  750| 0.8333333333333334|\n",
            "+-----+-----+-------------------+\n",
            "\n"
          ]
        }
      ]
    },
    {
      "cell_type": "code",
      "source": [
        "# ---------- 4) Stats por clase ----------\n",
        "stats_by_churn = (\n",
        "    df.groupBy(\"Churn\")\n",
        "      .agg(\n",
        "          F.count(\"*\").alias(\"n\"),\n",
        "          *[F.mean(c).alias(f\"mean_{c}\") for c in num_cols],\n",
        "          *[F.expr(f\"percentile_approx({c}, 0.5)\").alias(f\"p50_{c}\") for c in num_cols],\n",
        "          *[F.expr(f\"percentile_approx({c}, array(0.25,0.75))\").alias(f\"IQR_{c}\") for c in num_cols]\n",
        "      )\n",
        ")\n",
        "stats_by_churn.show(truncate=False)"
      ],
      "metadata": {
        "id": "7r4ER0NECX62",
        "outputId": "3f5cf118-f986-4045-d710-c432504fe383",
        "colab": {
          "base_uri": "https://localhost:8080/"
        }
      },
      "id": "7r4ER0NECX62",
      "execution_count": 12,
      "outputs": [
        {
          "output_type": "stream",
          "name": "stdout",
          "text": [
            "+-----+---+-----------------+-------------------+------------------+-----------------+-------+------------------+---------+-------------+------------+-------------------+------------+-------------+\n",
            "|Churn|n  |mean_Age         |mean_Total_Purchase|mean_Years        |mean_Num_Sites   |p50_Age|p50_Total_Purchase|p50_Years|p50_Num_Sites|IQR_Age     |IQR_Total_Purchase |IQR_Years   |IQR_Num_Sites|\n",
            "+-----+---+-----------------+-------------------+------------------+-----------------+-------+------------------+---------+-------------+------------+-------------------+------------+-------------+\n",
            "|1    |150|42.99333333333333|10192.179933333337 |5.8835999999999995|10.66            |43.0   |10271.19          |5.79     |11.0         |[38.0, 47.0]|[8563.24, 11758.69]|[5.12, 6.68]|[10.0, 12.0] |\n",
            "|0    |750|41.58133333333333|10036.952853333332 |5.1510666666666625|8.173333333333334|41.0   |9993.5            |5.08     |8.0          |[37.0, 46.0]|[8475.8, 11764.35] |[4.36, 5.99]|[7.0, 9.0]   |\n",
            "+-----+---+-----------------+-------------------+------------------+-----------------+-------+------------------+---------+-------------+------------+-------------------+------------+-------------+\n",
            "\n"
          ]
        }
      ]
    },
    {
      "cell_type": "code",
      "source": [
        "# ---------- 5) Ingeniería de fecha: Tenure desde Onboard_date ----------\n",
        "# Antigüedad en años (aprox) respecto a la fecha máxima de Onboard (como proxy de \"hoy\" en el dataset)\n",
        "max_date = df.agg(F.max(\"Onboard_date\").alias(\"maxd\")).collect()[0][\"maxd\"]\n",
        "df2 = df.withColumn(\"Tenure_years_from_onboard\",\n",
        "                    (F.datediff(F.lit(max_date), F.col(\"Onboard_date\"))/365.25).cast(\"double\"))\n",
        "\n",
        "(\n",
        "  df2.select(\n",
        "      F.avg(F.abs(F.col(\"Tenure_years_from_onboard\") - F.col(\"Years\"))).alias(\"MAE_Years_vs_Tenure\"),\n",
        "      F.corr(\"Tenure_years_from_onboard\",\"Years\").alias(\"corr_Years_vs_Tenure\")\n",
        "  ).show()\n",
        ")\n",
        "\n",
        "# ---------- 6) Leakage check: Account_Manager aleatorio? ----------\n",
        "# Tabla de contingencia y proporciones\n",
        "ct = (df.groupBy(\"Account_Manager\",\"Churn\").count()\n",
        "        .withColumn(\"prop\", F.col(\"count\")/F.sum(\"count\").over(Window.partitionBy(\"Account_Manager\"))))\n",
        "ct.orderBy(\"Account_Manager\",\"Churn\").show()\n",
        "\n",
        "# Chi-cuadrado (versión simple con RDD para 2x2; si hay >2 clases ajustar)\n",
        "from pyspark.ml.feature import StringIndexer\n",
        "from pyspark.ml.stat import ChiSquareTest\n",
        "from pyspark.ml import Pipeline\n",
        "\n",
        "# Preparar vector de features categóricas (Account_Manager) y label (Churn)\n",
        "assembler = VectorAssembler(inputCols=[\"Account_Manager\"], outputCol=\"features\")\n",
        "chi_df = assembler.setHandleInvalid(\"keep\").transform(df.select(\"Account_Manager\",\"Churn\").dropna())\n",
        "chi = ChiSquareTest.test(chi_df, \"features\", \"Churn\").head()\n",
        "print(f\"Chi2 p-value Account_Manager ~ Churn: {chi.pValues[0]}\")\n",
        "\n",
        "# ---------- 7) Correlaciones numéricas ----------\n",
        "vec_assembler = VectorAssembler(inputCols=num_cols, outputCol=\"features_num\")\n",
        "num_vec = vec_assembler.setHandleInvalid(\"skip\").transform(df.select(num_cols).dropna())\n",
        "corr_mat = Correlation.corr(num_vec, \"features_num\", \"pearson\").head()[0]  # DenseMatrix\n",
        "# Imprimir matriz con nombres\n",
        "def pretty_corr(names, m: DenseMatrix):\n",
        "    arr = m.toArray().tolist()\n",
        "    header = \"        \" + \"  \".join([f\"{c:>14}\" for c in names])\n",
        "    print(header)\n",
        "    for i, row in enumerate(arr):\n",
        "        print(f\"{names[i]:>8}  \" + \"  \".join([f\"{v:14.3f}\" for v in row]))\n",
        "pretty_corr(num_cols, corr_mat)\n",
        "\n",
        "\n",
        "\n",
        "# ---------- 9) Cardinalidad de categorías ----------\n",
        "(\n",
        "  df.agg(\n",
        "    F.countDistinct(\"Names\").alias(\"uniq_Names\"),\n",
        "    F.countDistinct(\"Location\").alias(\"uniq_Location\"),\n",
        "    F.countDistinct(\"Company\").alias(\"uniq_Company\")\n",
        "  ).show()\n",
        ")\n",
        "\n",
        "# Top ubicaciones (si aporta algo regional)\n",
        "(df.groupBy(\"Location\")\n",
        "   .agg(F.count(\"*\").alias(\"n\"), F.mean(\"Churn\").alias(\"churn_rate\"))\n",
        "   .orderBy(F.desc(\"n\"))\n",
        "   .show(20, truncate=False))\n",
        "\n",
        "# ---------- 10) Interacciones simples (ej., sitios por año) ----------\n",
        "df3 = df2.withColumn(\"Sites_per_Year\", (F.col(\"Num_Sites\")/(F.col(\"Years\")+F.lit(1e-6))).cast(\"double\"))\n",
        "(\n",
        "  df3.groupBy(\"Churn\")\n",
        "     .agg(F.mean(\"Sites_per_Year\").alias(\"mean_Sites_per_Year\"))\n",
        "     .show()\n",
        ")"
      ],
      "metadata": {
        "id": "llXpVI29CX19",
        "outputId": "2d98cfb0-aab5-407f-df18-6464acf42051",
        "colab": {
          "base_uri": "https://localhost:8080/"
        }
      },
      "id": "llXpVI29CX19",
      "execution_count": 14,
      "outputs": [
        {
          "output_type": "stream",
          "name": "stdout",
          "text": [
            "+-------------------+--------------------+\n",
            "|MAE_Years_vs_Tenure|corr_Years_vs_Tenure|\n",
            "+-------------------+--------------------+\n",
            "| 2.9261441630542295| 0.04491650416398004|\n",
            "+-------------------+--------------------+\n",
            "\n",
            "+---------------+-----+-----+-------------------+\n",
            "|Account_Manager|Churn|count|               prop|\n",
            "+---------------+-----+-----+-------------------+\n",
            "|              0|    0|  401| 0.8586723768736617|\n",
            "|              0|    1|   66|0.14132762312633834|\n",
            "|              1|    0|  349| 0.8060046189376443|\n",
            "|              1|    1|   84|0.19399538106235567|\n",
            "+---------------+-----+-----+-------------------+\n",
            "\n",
            "Chi2 p-value Account_Manager ~ Churn: 0.03414770918874699\n",
            "                   Age  Total_Purchase           Years       Num_Sites\n",
            "     Age           1.000          -0.037           0.006          -0.006\n",
            "Total_Purchase          -0.037           1.000          -0.006          -0.003\n",
            "   Years           0.006          -0.006           1.000           0.052\n",
            "Num_Sites          -0.006          -0.003           0.052           1.000\n",
            "+----------+-------------+------------+\n",
            "|uniq_Names|uniq_Location|uniq_Company|\n",
            "+----------+-------------+------------+\n",
            "|       899|          900|         873|\n",
            "+----------+-------------+------------+\n",
            "\n",
            "+---------------------------------------------------------------+---+----------+\n",
            "|Location                                                       |n  |churn_rate|\n",
            "+---------------------------------------------------------------+---+----------+\n",
            "|062 Trevor Falls Suite 665 North Mathewchester, MH 93744       |1  |1.0       |\n",
            "|066 Jenkins Walks Barbaramouth, LA 76409                       |1  |0.0       |\n",
            "|45946 Day Springs Mendozastad, NJ 46404                        |1  |1.0       |\n",
            "|143 Andrea Flat Lake Michael, ID 33149                         |1  |0.0       |\n",
            "|Unit 2093 Box 1530 DPO AA 53596-7800                           |1  |0.0       |\n",
            "|399 Herbert Key Port Thomas, PR 14265                          |1  |0.0       |\n",
            "|104 Ruben Rapid Apt. 107 New Andrea, FM 58602                  |1  |0.0       |\n",
            "|930 Carrie Harbor Suite 044 New Adamtown, MP 74903             |1  |0.0       |\n",
            "|8202 Jade Unions Suite 557 South Wesley, MS 12025              |1  |0.0       |\n",
            "|USCGC Bailey FPO AA 06202-5064                                 |1  |0.0       |\n",
            "|893 Carla Trace Suite 132 Lake Aliciaport, AR 87567            |1  |0.0       |\n",
            "|446 Rodney Ridge Suite 282 West Williamside, MA 83236          |1  |0.0       |\n",
            "|30668 Isabella Freeway Suite 428 Lake Kellyhaven, MP 89074-5017|1  |1.0       |\n",
            "|911 Kent Point Anthonytown, KS 47499                           |1  |0.0       |\n",
            "|078 Nunez Haven Suite 032 East Bradley, SC 36621-1197          |1  |0.0       |\n",
            "|PSC 5667, Box 8312 APO AP 00654                                |1  |0.0       |\n",
            "|4972 Michael Village Suite 788 West Rachelstad, NH 04946-6243  |1  |0.0       |\n",
            "|567 Ian Loop Lambertberg, MA 68810-6480                        |1  |0.0       |\n",
            "|482 Wells Mountain New Jason, AL 66002                         |1  |0.0       |\n",
            "|7259 Brown Street Apt. 385 Monicaport, GU 05916-8374           |1  |1.0       |\n",
            "+---------------------------------------------------------------+---+----------+\n",
            "only showing top 20 rows\n",
            "\n",
            "+-----+-------------------+\n",
            "|Churn|mean_Sites_per_Year|\n",
            "+-----+-------------------+\n",
            "|    1|  1.908997675012718|\n",
            "|    0|  1.717603052388039|\n",
            "+-----+-------------------+\n",
            "\n"
          ]
        }
      ]
    },
    {
      "cell_type": "code",
      "source": [],
      "metadata": {
        "id": "fiNZp1JkCXzN"
      },
      "id": "fiNZp1JkCXzN",
      "execution_count": null,
      "outputs": []
    },
    {
      "cell_type": "code",
      "source": [],
      "metadata": {
        "id": "gGlmV3FwCXv1"
      },
      "id": "gGlmV3FwCXv1",
      "execution_count": null,
      "outputs": []
    },
    {
      "cell_type": "code",
      "source": [],
      "metadata": {
        "id": "Wh6tzc_yCXqx"
      },
      "id": "Wh6tzc_yCXqx",
      "execution_count": null,
      "outputs": []
    },
    {
      "cell_type": "code",
      "source": [],
      "metadata": {
        "id": "mj-QVWaiCXjG"
      },
      "id": "mj-QVWaiCXjG",
      "execution_count": null,
      "outputs": []
    },
    {
      "cell_type": "code",
      "source": [],
      "metadata": {
        "id": "h66j7nBMCXYG"
      },
      "id": "h66j7nBMCXYG",
      "execution_count": null,
      "outputs": []
    }
  ],
  "metadata": {
    "language_info": {
      "name": "python"
    },
    "colab": {
      "provenance": []
    },
    "kernelspec": {
      "name": "python3",
      "display_name": "Python 3"
    }
  },
  "nbformat": 4,
  "nbformat_minor": 5
}