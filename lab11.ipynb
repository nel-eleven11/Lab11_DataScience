{
 "cells": [
  {
   "cell_type": "markdown",
   "id": "ff87eeb1",
   "metadata": {},
   "source": [
    "# Laboratorio 11 - Data Science\n",
    "## Proyecto de Consultoría Regresión Logística\n",
    "- Nelson García Bravatti\n",
    "- Christian Echeverría\n"
   ]
  },
  {
   "cell_type": "code",
   "execution_count": null,
   "id": "7922a986",
   "metadata": {
    "vscode": {
     "languageId": "plaintext"
    }
   },
   "outputs": [],
   "source": [
    "!pip -q install pyspark"
   ]
  },
  {
   "cell_type": "code",
   "execution_count": null,
   "id": "8b8b2da4",
   "metadata": {
    "vscode": {
     "languageId": "plaintext"
    }
   },
   "outputs": [],
   "source": [
    "from pyspark.sql import SparkSession\n",
    "\n",
    "import pandas as pd\n",
    "import seaborn as sns\n",
    "import matplotlib.pyplot as plt\n",
    "\n",
    "spark = SparkSession.builder.appName(\"Lab DF — Abandono\").getOrCreate()\n",
    "print(\"Spark version:\", spark.version)"
   ]
  },
  {
   "cell_type": "code",
   "execution_count": null,
   "id": "4891bda5",
   "metadata": {
    "vscode": {
     "languageId": "plaintext"
    }
   },
   "outputs": [],
   "source": [
    "file_path = 'abandono_clientes.csv'\n",
    "\n",
    "df = (\n",
    "    spark.read\n",
    "         .option(\"header\", True)\n",
    "         .option(\"inferSchema\", True)\n",
    "         .csv(file_path)\n",
    ")\n",
    "\n",
    "# Ver las primeras filas del dataframe\n",
    "df.show(5)"
   ]
  },
  {
   "cell_type": "code",
   "execution_count": null,
   "id": "9869f606",
   "metadata": {
    "vscode": {
     "languageId": "plaintext"
    }
   },
   "outputs": [],
   "source": [
    "df.printSchema()"
   ]
  }
 ],
 "metadata": {
  "language_info": {
   "name": "python"
  }
 },
 "nbformat": 4,
 "nbformat_minor": 5
}
